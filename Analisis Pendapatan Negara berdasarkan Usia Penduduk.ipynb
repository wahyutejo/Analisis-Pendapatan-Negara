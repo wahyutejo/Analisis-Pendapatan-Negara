{
 "cells": [
  {
   "cell_type": "markdown",
   "metadata": {},
   "source": [
    "## Analisis Pendapatan Negara berdasarkan Usia Penduduk"
   ]
  },
  {
   "cell_type": "code",
   "execution_count": 29,
   "metadata": {},
   "outputs": [
    {
     "data": {
      "text/html": [
       "<div>\n",
       "<style scoped>\n",
       "    .dataframe tbody tr th:only-of-type {\n",
       "        vertical-align: middle;\n",
       "    }\n",
       "\n",
       "    .dataframe tbody tr th {\n",
       "        vertical-align: top;\n",
       "    }\n",
       "\n",
       "    .dataframe thead th {\n",
       "        text-align: right;\n",
       "    }\n",
       "</style>\n",
       "<table border=\"1\" class=\"dataframe\">\n",
       "  <thead>\n",
       "    <tr style=\"text-align: right;\">\n",
       "      <th></th>\n",
       "      <th>Country</th>\n",
       "      <th>Region</th>\n",
       "      <th>Population</th>\n",
       "      <th>Under15</th>\n",
       "      <th>Over60</th>\n",
       "      <th>FertilityRate</th>\n",
       "      <th>LifeExpectancy</th>\n",
       "      <th>ChildMortality</th>\n",
       "      <th>CellularSubscribers</th>\n",
       "      <th>LiteracyRate</th>\n",
       "      <th>GNI</th>\n",
       "      <th>PrimarySchoolEnrollmentMale</th>\n",
       "      <th>PrimarySchoolEnrollmentFemale</th>\n",
       "    </tr>\n",
       "  </thead>\n",
       "  <tbody>\n",
       "    <tr>\n",
       "      <th>0</th>\n",
       "      <td>Afghanistan</td>\n",
       "      <td>Eastern Mediterranean</td>\n",
       "      <td>29825</td>\n",
       "      <td>47.42</td>\n",
       "      <td>3.82</td>\n",
       "      <td>5.40</td>\n",
       "      <td>60</td>\n",
       "      <td>98.5</td>\n",
       "      <td>54.26</td>\n",
       "      <td>NaN</td>\n",
       "      <td>1140.0</td>\n",
       "      <td>NaN</td>\n",
       "      <td>NaN</td>\n",
       "    </tr>\n",
       "    <tr>\n",
       "      <th>1</th>\n",
       "      <td>Albania</td>\n",
       "      <td>Europe</td>\n",
       "      <td>3162</td>\n",
       "      <td>21.33</td>\n",
       "      <td>14.93</td>\n",
       "      <td>1.75</td>\n",
       "      <td>74</td>\n",
       "      <td>16.7</td>\n",
       "      <td>96.39</td>\n",
       "      <td>NaN</td>\n",
       "      <td>8820.0</td>\n",
       "      <td>NaN</td>\n",
       "      <td>NaN</td>\n",
       "    </tr>\n",
       "    <tr>\n",
       "      <th>2</th>\n",
       "      <td>Algeria</td>\n",
       "      <td>Africa</td>\n",
       "      <td>38482</td>\n",
       "      <td>27.42</td>\n",
       "      <td>7.17</td>\n",
       "      <td>2.83</td>\n",
       "      <td>73</td>\n",
       "      <td>20.0</td>\n",
       "      <td>98.99</td>\n",
       "      <td>NaN</td>\n",
       "      <td>8310.0</td>\n",
       "      <td>98.2</td>\n",
       "      <td>96.4</td>\n",
       "    </tr>\n",
       "    <tr>\n",
       "      <th>3</th>\n",
       "      <td>Andorra</td>\n",
       "      <td>Europe</td>\n",
       "      <td>78</td>\n",
       "      <td>15.20</td>\n",
       "      <td>22.86</td>\n",
       "      <td>NaN</td>\n",
       "      <td>82</td>\n",
       "      <td>3.2</td>\n",
       "      <td>75.49</td>\n",
       "      <td>NaN</td>\n",
       "      <td>NaN</td>\n",
       "      <td>78.4</td>\n",
       "      <td>79.4</td>\n",
       "    </tr>\n",
       "    <tr>\n",
       "      <th>4</th>\n",
       "      <td>Angola</td>\n",
       "      <td>Africa</td>\n",
       "      <td>20821</td>\n",
       "      <td>47.58</td>\n",
       "      <td>3.84</td>\n",
       "      <td>6.10</td>\n",
       "      <td>51</td>\n",
       "      <td>163.5</td>\n",
       "      <td>48.38</td>\n",
       "      <td>70.1</td>\n",
       "      <td>5230.0</td>\n",
       "      <td>93.1</td>\n",
       "      <td>78.2</td>\n",
       "    </tr>\n",
       "  </tbody>\n",
       "</table>\n",
       "</div>"
      ],
      "text/plain": [
       "       Country                 Region  Population  Under15  Over60  \\\n",
       "0  Afghanistan  Eastern Mediterranean       29825    47.42    3.82   \n",
       "1      Albania                 Europe        3162    21.33   14.93   \n",
       "2      Algeria                 Africa       38482    27.42    7.17   \n",
       "3      Andorra                 Europe          78    15.20   22.86   \n",
       "4       Angola                 Africa       20821    47.58    3.84   \n",
       "\n",
       "   FertilityRate  LifeExpectancy  ChildMortality  CellularSubscribers  \\\n",
       "0           5.40              60            98.5                54.26   \n",
       "1           1.75              74            16.7                96.39   \n",
       "2           2.83              73            20.0                98.99   \n",
       "3            NaN              82             3.2                75.49   \n",
       "4           6.10              51           163.5                48.38   \n",
       "\n",
       "   LiteracyRate     GNI  PrimarySchoolEnrollmentMale  \\\n",
       "0           NaN  1140.0                          NaN   \n",
       "1           NaN  8820.0                          NaN   \n",
       "2           NaN  8310.0                         98.2   \n",
       "3           NaN     NaN                         78.4   \n",
       "4          70.1  5230.0                         93.1   \n",
       "\n",
       "   PrimarySchoolEnrollmentFemale  \n",
       "0                            NaN  \n",
       "1                            NaN  \n",
       "2                           96.4  \n",
       "3                           79.4  \n",
       "4                           78.2  "
      ]
     },
     "execution_count": 29,
     "metadata": {},
     "output_type": "execute_result"
    }
   ],
   "source": [
    "import pandas as pd\n",
    "import matplotlib.pyplot as plt\n",
    "df = pd.read_csv('D:/Data csv/WHO.csv')\n",
    "\n",
    "#melihat data paling atas\n",
    "df.head()"
   ]
  },
  {
   "cell_type": "code",
   "execution_count": 3,
   "metadata": {},
   "outputs": [
    {
     "data": {
      "text/html": [
       "<div>\n",
       "<style scoped>\n",
       "    .dataframe tbody tr th:only-of-type {\n",
       "        vertical-align: middle;\n",
       "    }\n",
       "\n",
       "    .dataframe tbody tr th {\n",
       "        vertical-align: top;\n",
       "    }\n",
       "\n",
       "    .dataframe thead th {\n",
       "        text-align: right;\n",
       "    }\n",
       "</style>\n",
       "<table border=\"1\" class=\"dataframe\">\n",
       "  <thead>\n",
       "    <tr style=\"text-align: right;\">\n",
       "      <th></th>\n",
       "      <th>Country</th>\n",
       "      <th>Region</th>\n",
       "      <th>Population</th>\n",
       "      <th>Under15</th>\n",
       "      <th>Over60</th>\n",
       "      <th>FertilityRate</th>\n",
       "      <th>LifeExpectancy</th>\n",
       "      <th>ChildMortality</th>\n",
       "      <th>CellularSubscribers</th>\n",
       "      <th>LiteracyRate</th>\n",
       "      <th>GNI</th>\n",
       "      <th>PrimarySchoolEnrollmentMale</th>\n",
       "      <th>PrimarySchoolEnrollmentFemale</th>\n",
       "    </tr>\n",
       "  </thead>\n",
       "  <tbody>\n",
       "    <tr>\n",
       "      <th>189</th>\n",
       "      <td>Venezuela (Bolivarian Republic of)</td>\n",
       "      <td>Americas</td>\n",
       "      <td>29955</td>\n",
       "      <td>28.84</td>\n",
       "      <td>9.17</td>\n",
       "      <td>2.44</td>\n",
       "      <td>75</td>\n",
       "      <td>15.3</td>\n",
       "      <td>97.78</td>\n",
       "      <td>NaN</td>\n",
       "      <td>12430.0</td>\n",
       "      <td>94.7</td>\n",
       "      <td>95.1</td>\n",
       "    </tr>\n",
       "    <tr>\n",
       "      <th>190</th>\n",
       "      <td>Viet Nam</td>\n",
       "      <td>Western Pacific</td>\n",
       "      <td>90796</td>\n",
       "      <td>22.87</td>\n",
       "      <td>9.32</td>\n",
       "      <td>1.79</td>\n",
       "      <td>75</td>\n",
       "      <td>23.0</td>\n",
       "      <td>143.39</td>\n",
       "      <td>93.2</td>\n",
       "      <td>3250.0</td>\n",
       "      <td>NaN</td>\n",
       "      <td>NaN</td>\n",
       "    </tr>\n",
       "    <tr>\n",
       "      <th>191</th>\n",
       "      <td>Yemen</td>\n",
       "      <td>Eastern Mediterranean</td>\n",
       "      <td>23852</td>\n",
       "      <td>40.72</td>\n",
       "      <td>4.54</td>\n",
       "      <td>4.35</td>\n",
       "      <td>64</td>\n",
       "      <td>60.0</td>\n",
       "      <td>47.05</td>\n",
       "      <td>63.9</td>\n",
       "      <td>2170.0</td>\n",
       "      <td>85.5</td>\n",
       "      <td>70.5</td>\n",
       "    </tr>\n",
       "    <tr>\n",
       "      <th>192</th>\n",
       "      <td>Zambia</td>\n",
       "      <td>Africa</td>\n",
       "      <td>14075</td>\n",
       "      <td>46.73</td>\n",
       "      <td>3.95</td>\n",
       "      <td>5.77</td>\n",
       "      <td>55</td>\n",
       "      <td>88.5</td>\n",
       "      <td>60.59</td>\n",
       "      <td>71.2</td>\n",
       "      <td>1490.0</td>\n",
       "      <td>91.4</td>\n",
       "      <td>93.9</td>\n",
       "    </tr>\n",
       "    <tr>\n",
       "      <th>193</th>\n",
       "      <td>Zimbabwe</td>\n",
       "      <td>Africa</td>\n",
       "      <td>13724</td>\n",
       "      <td>40.24</td>\n",
       "      <td>5.68</td>\n",
       "      <td>3.64</td>\n",
       "      <td>54</td>\n",
       "      <td>89.8</td>\n",
       "      <td>72.13</td>\n",
       "      <td>92.2</td>\n",
       "      <td>NaN</td>\n",
       "      <td>NaN</td>\n",
       "      <td>NaN</td>\n",
       "    </tr>\n",
       "  </tbody>\n",
       "</table>\n",
       "</div>"
      ],
      "text/plain": [
       "                                Country                 Region  Population  \\\n",
       "189  Venezuela (Bolivarian Republic of)               Americas       29955   \n",
       "190                            Viet Nam        Western Pacific       90796   \n",
       "191                               Yemen  Eastern Mediterranean       23852   \n",
       "192                              Zambia                 Africa       14075   \n",
       "193                            Zimbabwe                 Africa       13724   \n",
       "\n",
       "     Under15  Over60  FertilityRate  LifeExpectancy  ChildMortality  \\\n",
       "189    28.84    9.17           2.44              75            15.3   \n",
       "190    22.87    9.32           1.79              75            23.0   \n",
       "191    40.72    4.54           4.35              64            60.0   \n",
       "192    46.73    3.95           5.77              55            88.5   \n",
       "193    40.24    5.68           3.64              54            89.8   \n",
       "\n",
       "     CellularSubscribers  LiteracyRate      GNI  PrimarySchoolEnrollmentMale  \\\n",
       "189                97.78           NaN  12430.0                         94.7   \n",
       "190               143.39          93.2   3250.0                          NaN   \n",
       "191                47.05          63.9   2170.0                         85.5   \n",
       "192                60.59          71.2   1490.0                         91.4   \n",
       "193                72.13          92.2      NaN                          NaN   \n",
       "\n",
       "     PrimarySchoolEnrollmentFemale  \n",
       "189                           95.1  \n",
       "190                            NaN  \n",
       "191                           70.5  \n",
       "192                           93.9  \n",
       "193                            NaN  "
      ]
     },
     "execution_count": 3,
     "metadata": {},
     "output_type": "execute_result"
    }
   ],
   "source": [
    "#melihat data terbawah\n",
    "\n",
    "df.tail()"
   ]
  },
  {
   "cell_type": "code",
   "execution_count": 4,
   "metadata": {},
   "outputs": [
    {
     "name": "stdout",
     "output_type": "stream",
     "text": [
      "<class 'pandas.core.frame.DataFrame'>\n",
      "RangeIndex: 194 entries, 0 to 193\n",
      "Data columns (total 13 columns):\n",
      " #   Column                         Non-Null Count  Dtype  \n",
      "---  ------                         --------------  -----  \n",
      " 0   Country                        194 non-null    object \n",
      " 1   Region                         194 non-null    object \n",
      " 2   Population                     194 non-null    int64  \n",
      " 3   Under15                        194 non-null    float64\n",
      " 4   Over60                         194 non-null    float64\n",
      " 5   FertilityRate                  183 non-null    float64\n",
      " 6   LifeExpectancy                 194 non-null    int64  \n",
      " 7   ChildMortality                 194 non-null    float64\n",
      " 8   CellularSubscribers            184 non-null    float64\n",
      " 9   LiteracyRate                   103 non-null    float64\n",
      " 10  GNI                            162 non-null    float64\n",
      " 11  PrimarySchoolEnrollmentMale    101 non-null    float64\n",
      " 12  PrimarySchoolEnrollmentFemale  101 non-null    float64\n",
      "dtypes: float64(9), int64(2), object(2)\n",
      "memory usage: 19.8+ KB\n"
     ]
    }
   ],
   "source": [
    "#melihat struktur dataset\n",
    "df.info()"
   ]
  },
  {
   "cell_type": "code",
   "execution_count": 5,
   "metadata": {},
   "outputs": [
    {
     "data": {
      "text/html": [
       "<div>\n",
       "<style scoped>\n",
       "    .dataframe tbody tr th:only-of-type {\n",
       "        vertical-align: middle;\n",
       "    }\n",
       "\n",
       "    .dataframe tbody tr th {\n",
       "        vertical-align: top;\n",
       "    }\n",
       "\n",
       "    .dataframe thead th {\n",
       "        text-align: right;\n",
       "    }\n",
       "</style>\n",
       "<table border=\"1\" class=\"dataframe\">\n",
       "  <thead>\n",
       "    <tr style=\"text-align: right;\">\n",
       "      <th></th>\n",
       "      <th>Population</th>\n",
       "      <th>Under15</th>\n",
       "      <th>Over60</th>\n",
       "      <th>FertilityRate</th>\n",
       "      <th>LifeExpectancy</th>\n",
       "      <th>ChildMortality</th>\n",
       "      <th>CellularSubscribers</th>\n",
       "      <th>LiteracyRate</th>\n",
       "      <th>GNI</th>\n",
       "      <th>PrimarySchoolEnrollmentMale</th>\n",
       "      <th>PrimarySchoolEnrollmentFemale</th>\n",
       "    </tr>\n",
       "  </thead>\n",
       "  <tbody>\n",
       "    <tr>\n",
       "      <th>count</th>\n",
       "      <td>1.940000e+02</td>\n",
       "      <td>194.000000</td>\n",
       "      <td>194.000000</td>\n",
       "      <td>183.000000</td>\n",
       "      <td>194.000000</td>\n",
       "      <td>194.000000</td>\n",
       "      <td>184.000000</td>\n",
       "      <td>103.000000</td>\n",
       "      <td>162.000000</td>\n",
       "      <td>101.000000</td>\n",
       "      <td>101.000000</td>\n",
       "    </tr>\n",
       "    <tr>\n",
       "      <th>mean</th>\n",
       "      <td>3.635997e+04</td>\n",
       "      <td>28.732423</td>\n",
       "      <td>11.163660</td>\n",
       "      <td>2.940656</td>\n",
       "      <td>70.010309</td>\n",
       "      <td>36.148969</td>\n",
       "      <td>93.641522</td>\n",
       "      <td>83.710680</td>\n",
       "      <td>13320.925926</td>\n",
       "      <td>90.850495</td>\n",
       "      <td>89.632673</td>\n",
       "    </tr>\n",
       "    <tr>\n",
       "      <th>std</th>\n",
       "      <td>1.379031e+05</td>\n",
       "      <td>10.534573</td>\n",
       "      <td>7.149331</td>\n",
       "      <td>1.480984</td>\n",
       "      <td>9.259075</td>\n",
       "      <td>37.992935</td>\n",
       "      <td>41.400447</td>\n",
       "      <td>17.530645</td>\n",
       "      <td>15192.988650</td>\n",
       "      <td>11.017147</td>\n",
       "      <td>12.817614</td>\n",
       "    </tr>\n",
       "    <tr>\n",
       "      <th>min</th>\n",
       "      <td>1.000000e+00</td>\n",
       "      <td>13.120000</td>\n",
       "      <td>0.810000</td>\n",
       "      <td>1.260000</td>\n",
       "      <td>47.000000</td>\n",
       "      <td>2.200000</td>\n",
       "      <td>2.570000</td>\n",
       "      <td>31.100000</td>\n",
       "      <td>340.000000</td>\n",
       "      <td>37.200000</td>\n",
       "      <td>32.500000</td>\n",
       "    </tr>\n",
       "    <tr>\n",
       "      <th>25%</th>\n",
       "      <td>1.695750e+03</td>\n",
       "      <td>18.717500</td>\n",
       "      <td>5.200000</td>\n",
       "      <td>1.835000</td>\n",
       "      <td>64.000000</td>\n",
       "      <td>8.425000</td>\n",
       "      <td>63.567500</td>\n",
       "      <td>71.600000</td>\n",
       "      <td>2335.000000</td>\n",
       "      <td>87.700000</td>\n",
       "      <td>87.300000</td>\n",
       "    </tr>\n",
       "    <tr>\n",
       "      <th>50%</th>\n",
       "      <td>7.790000e+03</td>\n",
       "      <td>28.650000</td>\n",
       "      <td>8.530000</td>\n",
       "      <td>2.400000</td>\n",
       "      <td>72.500000</td>\n",
       "      <td>18.600000</td>\n",
       "      <td>97.745000</td>\n",
       "      <td>91.800000</td>\n",
       "      <td>7870.000000</td>\n",
       "      <td>94.700000</td>\n",
       "      <td>95.100000</td>\n",
       "    </tr>\n",
       "    <tr>\n",
       "      <th>75%</th>\n",
       "      <td>2.453525e+04</td>\n",
       "      <td>37.752500</td>\n",
       "      <td>16.687500</td>\n",
       "      <td>3.905000</td>\n",
       "      <td>76.000000</td>\n",
       "      <td>55.975000</td>\n",
       "      <td>120.805000</td>\n",
       "      <td>97.850000</td>\n",
       "      <td>17557.500000</td>\n",
       "      <td>98.100000</td>\n",
       "      <td>97.900000</td>\n",
       "    </tr>\n",
       "    <tr>\n",
       "      <th>max</th>\n",
       "      <td>1.390000e+06</td>\n",
       "      <td>49.990000</td>\n",
       "      <td>31.920000</td>\n",
       "      <td>7.580000</td>\n",
       "      <td>83.000000</td>\n",
       "      <td>181.600000</td>\n",
       "      <td>196.410000</td>\n",
       "      <td>99.800000</td>\n",
       "      <td>86440.000000</td>\n",
       "      <td>100.000000</td>\n",
       "      <td>100.000000</td>\n",
       "    </tr>\n",
       "  </tbody>\n",
       "</table>\n",
       "</div>"
      ],
      "text/plain": [
       "         Population     Under15      Over60  FertilityRate  LifeExpectancy  \\\n",
       "count  1.940000e+02  194.000000  194.000000     183.000000      194.000000   \n",
       "mean   3.635997e+04   28.732423   11.163660       2.940656       70.010309   \n",
       "std    1.379031e+05   10.534573    7.149331       1.480984        9.259075   \n",
       "min    1.000000e+00   13.120000    0.810000       1.260000       47.000000   \n",
       "25%    1.695750e+03   18.717500    5.200000       1.835000       64.000000   \n",
       "50%    7.790000e+03   28.650000    8.530000       2.400000       72.500000   \n",
       "75%    2.453525e+04   37.752500   16.687500       3.905000       76.000000   \n",
       "max    1.390000e+06   49.990000   31.920000       7.580000       83.000000   \n",
       "\n",
       "       ChildMortality  CellularSubscribers  LiteracyRate           GNI  \\\n",
       "count      194.000000           184.000000    103.000000    162.000000   \n",
       "mean        36.148969            93.641522     83.710680  13320.925926   \n",
       "std         37.992935            41.400447     17.530645  15192.988650   \n",
       "min          2.200000             2.570000     31.100000    340.000000   \n",
       "25%          8.425000            63.567500     71.600000   2335.000000   \n",
       "50%         18.600000            97.745000     91.800000   7870.000000   \n",
       "75%         55.975000           120.805000     97.850000  17557.500000   \n",
       "max        181.600000           196.410000     99.800000  86440.000000   \n",
       "\n",
       "       PrimarySchoolEnrollmentMale  PrimarySchoolEnrollmentFemale  \n",
       "count                   101.000000                     101.000000  \n",
       "mean                     90.850495                      89.632673  \n",
       "std                      11.017147                      12.817614  \n",
       "min                      37.200000                      32.500000  \n",
       "25%                      87.700000                      87.300000  \n",
       "50%                      94.700000                      95.100000  \n",
       "75%                      98.100000                      97.900000  \n",
       "max                     100.000000                     100.000000  "
      ]
     },
     "execution_count": 5,
     "metadata": {},
     "output_type": "execute_result"
    }
   ],
   "source": [
    "#melihat summary dataset\n",
    "df.describe()"
   ]
  },
  {
   "cell_type": "markdown",
   "metadata": {},
   "source": [
    "## Country dan Region tidak terhitung karena bukan numerik"
   ]
  },
  {
   "cell_type": "code",
   "execution_count": 7,
   "metadata": {},
   "outputs": [
    {
     "data": {
      "text/plain": [
       "Europe                   53\n",
       "Africa                   46\n",
       "Americas                 35\n",
       "Western Pacific          27\n",
       "Eastern Mediterranean    22\n",
       "South-East Asia          11\n",
       "Name: Region, dtype: int64"
      ]
     },
     "execution_count": 7,
     "metadata": {},
     "output_type": "execute_result"
    }
   ],
   "source": [
    "#menghitung berapa jumlah negara di tiap benua\n",
    "df['Region'].value_counts()"
   ]
  },
  {
   "cell_type": "markdown",
   "metadata": {},
   "source": [
    "### Melihat Negara mana yang memiliki populasi terbesar"
   ]
  },
  {
   "cell_type": "code",
   "execution_count": 24,
   "metadata": {},
   "outputs": [
    {
     "name": "stdout",
     "output_type": "stream",
     "text": [
      "Negara dengan populasi terbesar\n"
     ]
    },
    {
     "data": {
      "text/plain": [
       "Country                                    China\n",
       "Region                           Western Pacific\n",
       "Population                               1390000\n",
       "Under15                                    17.95\n",
       "Over60                                     13.42\n",
       "FertilityRate                               1.66\n",
       "LifeExpectancy                                76\n",
       "ChildMortality                                14\n",
       "CellularSubscribers                        73.19\n",
       "LiteracyRate                                94.3\n",
       "GNI                                         8390\n",
       "PrimarySchoolEnrollmentMale                  NaN\n",
       "PrimarySchoolEnrollmentFemale                NaN\n",
       "Name: 35, dtype: object"
      ]
     },
     "execution_count": 24,
     "metadata": {},
     "output_type": "execute_result"
    }
   ],
   "source": [
    "print('Negara dengan populasi terbesar')\n",
    "\n",
    "df.loc[df['Population'].idxmax()]"
   ]
  },
  {
   "cell_type": "code",
   "execution_count": 23,
   "metadata": {},
   "outputs": [
    {
     "name": "stdout",
     "output_type": "stream",
     "text": [
      "Negara dengan populasi terendah\n"
     ]
    },
    {
     "data": {
      "text/plain": [
       "Country                                     Niue\n",
       "Region                           Western Pacific\n",
       "Population                                     1\n",
       "Under15                                    30.61\n",
       "Over60                                      9.07\n",
       "FertilityRate                                NaN\n",
       "LifeExpectancy                                72\n",
       "ChildMortality                              25.1\n",
       "CellularSubscribers                          NaN\n",
       "LiteracyRate                                 NaN\n",
       "GNI                                          NaN\n",
       "PrimarySchoolEnrollmentMale                  NaN\n",
       "PrimarySchoolEnrollmentFemale                NaN\n",
       "Name: 125, dtype: object"
      ]
     },
     "execution_count": 23,
     "metadata": {},
     "output_type": "execute_result"
    }
   ],
   "source": [
    "print('Negara dengan populasi terendah')\n",
    "\n",
    "df.loc[df['Population'].idxmin()]"
   ]
  },
  {
   "cell_type": "markdown",
   "metadata": {},
   "source": [
    "### Melihat Negara yang memiliki usia di bawah 15"
   ]
  },
  {
   "cell_type": "code",
   "execution_count": 17,
   "metadata": {},
   "outputs": [
    {
     "data": {
      "text/plain": [
       "count    194.000000\n",
       "mean      28.732423\n",
       "std       10.534573\n",
       "min       13.120000\n",
       "25%       18.717500\n",
       "50%       28.650000\n",
       "75%       37.752500\n",
       "max       49.990000\n",
       "Name: Under15, dtype: float64"
      ]
     },
     "execution_count": 17,
     "metadata": {},
     "output_type": "execute_result"
    }
   ],
   "source": [
    "#mengeksplor variabel under 15\n",
    "df['Under15'].describe()\n"
   ]
  },
  {
   "cell_type": "code",
   "execution_count": 21,
   "metadata": {},
   "outputs": [
    {
     "name": "stdout",
     "output_type": "stream",
     "text": [
      "Negara dengan umur di bawah 15 terbesar\n"
     ]
    },
    {
     "data": {
      "text/plain": [
       "Country                           Niger\n",
       "Region                           Africa\n",
       "Population                        17157\n",
       "Under15                           49.99\n",
       "Over60                             4.26\n",
       "FertilityRate                      7.58\n",
       "LifeExpectancy                       56\n",
       "ChildMortality                    113.5\n",
       "CellularSubscribers               29.52\n",
       "LiteracyRate                        NaN\n",
       "GNI                                 720\n",
       "PrimarySchoolEnrollmentMale        64.2\n",
       "PrimarySchoolEnrollmentFemale        52\n",
       "Name: 123, dtype: object"
      ]
     },
     "execution_count": 21,
     "metadata": {},
     "output_type": "execute_result"
    }
   ],
   "source": [
    "print('Negara dengan umur di bawah 15 terbesar')\n",
    "df.loc[df['Under15'].idxmax()]"
   ]
  },
  {
   "cell_type": "code",
   "execution_count": 22,
   "metadata": {},
   "outputs": [
    {
     "name": "stdout",
     "output_type": "stream",
     "text": [
      "Negara dengan umur di bawah 15 terkecil\n"
     ]
    },
    {
     "data": {
      "text/plain": [
       "Country                                    Japan\n",
       "Region                           Western Pacific\n",
       "Population                                127000\n",
       "Under15                                    13.12\n",
       "Over60                                     31.92\n",
       "FertilityRate                               1.39\n",
       "LifeExpectancy                                83\n",
       "ChildMortality                                 3\n",
       "CellularSubscribers                       104.95\n",
       "LiteracyRate                                 NaN\n",
       "GNI                                        35330\n",
       "PrimarySchoolEnrollmentMale                  NaN\n",
       "PrimarySchoolEnrollmentFemale                NaN\n",
       "Name: 85, dtype: object"
      ]
     },
     "execution_count": 22,
     "metadata": {},
     "output_type": "execute_result"
    }
   ],
   "source": [
    "print('Negara dengan umur di bawah 15 terkecil')\n",
    "df.loc[df['Under15'].idxmin()]"
   ]
  },
  {
   "cell_type": "markdown",
   "metadata": {},
   "source": [
    "### Melihat Negara yang memiliki usia di atas 60"
   ]
  },
  {
   "cell_type": "code",
   "execution_count": 25,
   "metadata": {},
   "outputs": [
    {
     "data": {
      "text/plain": [
       "count    194.000000\n",
       "mean      11.163660\n",
       "std        7.149331\n",
       "min        0.810000\n",
       "25%        5.200000\n",
       "50%        8.530000\n",
       "75%       16.687500\n",
       "max       31.920000\n",
       "Name: Over60, dtype: float64"
      ]
     },
     "execution_count": 25,
     "metadata": {},
     "output_type": "execute_result"
    }
   ],
   "source": [
    "#summary Over60\n",
    "df['Over60'].describe()"
   ]
  },
  {
   "cell_type": "code",
   "execution_count": 27,
   "metadata": {},
   "outputs": [
    {
     "name": "stdout",
     "output_type": "stream",
     "text": [
      "Negara dengan usia diatas 60 terbesar\n"
     ]
    },
    {
     "data": {
      "text/plain": [
       "Country                                    Japan\n",
       "Region                           Western Pacific\n",
       "Population                                127000\n",
       "Under15                                    13.12\n",
       "Over60                                     31.92\n",
       "FertilityRate                               1.39\n",
       "LifeExpectancy                                83\n",
       "ChildMortality                                 3\n",
       "CellularSubscribers                       104.95\n",
       "LiteracyRate                                 NaN\n",
       "GNI                                        35330\n",
       "PrimarySchoolEnrollmentMale                  NaN\n",
       "PrimarySchoolEnrollmentFemale                NaN\n",
       "Name: 85, dtype: object"
      ]
     },
     "execution_count": 27,
     "metadata": {},
     "output_type": "execute_result"
    }
   ],
   "source": [
    "print('Negara dengan usia diatas 60 terbesar')\n",
    "df.loc[df['Over60'].idxmax()]"
   ]
  },
  {
   "cell_type": "code",
   "execution_count": 28,
   "metadata": {},
   "outputs": [
    {
     "name": "stdout",
     "output_type": "stream",
     "text": [
      "Negara dengan usia diatas 60 terendah\n"
     ]
    },
    {
     "data": {
      "text/plain": [
       "Country                           United Arab Emirates\n",
       "Region                           Eastern Mediterranean\n",
       "Population                                        9206\n",
       "Under15                                          14.41\n",
       "Over60                                            0.81\n",
       "FertilityRate                                     1.84\n",
       "LifeExpectancy                                      76\n",
       "ChildMortality                                     8.4\n",
       "CellularSubscribers                             148.62\n",
       "LiteracyRate                                       NaN\n",
       "GNI                                              47890\n",
       "PrimarySchoolEnrollmentMale                        NaN\n",
       "PrimarySchoolEnrollmentFemale                      NaN\n",
       "Name: 182, dtype: object"
      ]
     },
     "execution_count": 28,
     "metadata": {},
     "output_type": "execute_result"
    }
   ],
   "source": [
    "print('Negara dengan usia diatas 60 terendah')\n",
    "df.loc[df['Over60'].idxmin()]"
   ]
  },
  {
   "cell_type": "markdown",
   "metadata": {},
   "source": [
    "### Visualisasi dataset"
   ]
  },
  {
   "cell_type": "code",
   "execution_count": 37,
   "metadata": {},
   "outputs": [
    {
     "data": {
      "text/plain": [
       "Text(0, 0.5, 'Tingkat Kesuburan')"
      ]
     },
     "execution_count": 37,
     "metadata": {},
     "output_type": "execute_result"
    },
    {
     "data": {
      "image/png": "[encoded data removed]",
      "text/plain": [
       "<Figure size 1152x576 with 1 Axes>"
      ]
     },
     "metadata": {
      "needs_background": "light"
     },
     "output_type": "display_data"
    }
   ],
   "source": [
    "fig, ax = plt.subplots(figsize=(16,8))\n",
    "plt.title('Hubungan Antara Usia dengan Pendapatan Negara\\n', fontsize=15, color='blue')\n",
    "ax.scatter(df['GNI'], df['FertilityRate'], marker='o', color='red')\n",
    "ax.set_xlabel('Pendapatan Nasional Bruto', fontsize=12)\n",
    "ax.set_ylabel('Tingkat Kesuburan', fontsize=12)"
   ]
  },
  {
   "cell_type": "markdown",
   "metadata": {},
   "source": [
    "### Kesimpulan\n",
    "\n",
    "Negara dengan tingkat kesuburan tinggi cenderung memiliki pendapatan nasional yang rendah."
   ]
  }
 ],
 "metadata": {
  "kernelspec": {
   "display_name": "Python 3",
   "language": "python",
   "name": "python3"
  },
  "language_info": {
   "codemirror_mode": {
    "name": "ipython",
    "version": 3
   },
   "file_extension": ".py",
   "mimetype": "text/x-python",
   "name": "python",
   "nbconvert_exporter": "python",
   "pygments_lexer": "ipython3",
   "version": "3.8.5"
  }
 },
 "nbformat": 4,
 "nbformat_minor": 4
}
